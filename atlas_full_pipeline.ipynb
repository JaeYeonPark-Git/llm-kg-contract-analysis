{
 "cells": [
  {
   "cell_type": "markdown",
   "id": "32bc524e",
   "metadata": {},
   "source": [
    "# Networkx ATLAS KG construction and RAG example\n",
    "This notebook demonstrates the full streamlined process of creating a knowledge graph (KG) using the atlas-rag package and performing retrieval-augmented generation (RAG) with our created RAG methods."
   ]
  },
  {
   "cell_type": "markdown",
   "id": "89a035b3",
   "metadata": {},
   "source": [
    "## ATLAS KG Construction\n",
    "It is suggested to use local hf model to run the KG construction code, as llm api service provider use optimized, lightweight models to reduce costs, which may sacrifice performance, and hence hard to have guaranteed performance. (for example from fp16 to fp8 etc.)\n",
    "\n",
    "ATLAS KG construction consist of 5 steps:\n",
    "- Triples Json Generation (Base KG Json)\n",
    "- Convert Triples Json to Triples csv\n",
    "- Conceptualize Entity in Triples csv\n",
    "- Merge Concept CSV to Triples CSV\n",
    "- Convert CSV to graphml for networkx to perform rag / to neo4j dumps for Billion KG RAG"
   ]
  },
  {
   "cell_type": "code",
   "execution_count": 1,
   "id": "9c083856",
   "metadata": {},
   "outputs": [
    {
     "name": "stderr",
     "output_type": "stream",
     "text": [
      "/home/httsangaj/miniconda3/envs/atlas-rag/lib/python3.10/site-packages/tqdm/auto.py:21: TqdmWarning: IProgress not found. Please update jupyter and ipywidgets. See https://ipywidgets.readthedocs.io/en/stable/user_install.html\n",
      "  from .autonotebook import tqdm as notebook_tqdm\n"
     ]
    }
   ],
   "source": [
    "import os \n",
    "os.environ['CUDA_VISIBLE_DEVICES'] = '1'\n",
    "from atlas_rag.kg_construction.triple_extraction import KnowledgeGraphExtractor\n",
    "from atlas_rag.kg_construction.triple_config import ProcessingConfig\n",
    "from atlas_rag.llm_generator import LLMGenerator\n",
    "from openai import OpenAI\n",
    "from transformers import pipeline\n",
    "from configparser import ConfigParser\n",
    "# Load OpenRouter API key from config file\n",
    "config = ConfigParser()\n",
    "config.read('config.ini')\n",
    "# model_name = \"meta-llama/Llama-3.3-70B-Instruct\"\n",
    "client = OpenAI(\n",
    "  base_url=\"https://api.deepinfra.com/v1/openai\",\n",
    "  api_key=config['settings']['DEEPINFRA_API_KEY'],\n",
    ")\n",
    "\n",
    "model_name = \"meta-llama/Meta-Llama-3.1-8B-Instruct\"\n",
    "# model_name = \"meta-llama/Llama-3.2-3B-Instruct\"\n",
    "# client = pipeline(\n",
    "#     \"text-generation\",\n",
    "#     model=model_name,\n",
    "#     device_map=\"auto\",\n",
    "# )\n",
    "filename_pattern = 'Dulce'\n",
    "output_directory = f'import/{filename_pattern}'\n",
    "triple_generator = LLMGenerator(client, model_name=model_name)"
   ]
  },
  {
   "cell_type": "code",
   "execution_count": 2,
   "id": "37353f33",
   "metadata": {},
   "outputs": [],
   "source": [
    "kg_extraction_config = ProcessingConfig(\n",
    "      model_path=model_name,\n",
    "      data_directory=\"example_data\",\n",
    "      filename_pattern=filename_pattern,\n",
    "      batch_size_triple=3,\n",
    "      batch_size_concept=16,\n",
    "      output_directory=f\"{output_directory}\",\n",
    "      max_new_tokens=2048,\n",
    "      max_workers=3,\n",
    "      remove_doc_spaces=True, # For removing duplicated spaces in the document text\n",
    ")\n",
    "kg_extractor = KnowledgeGraphExtractor(model=triple_generator, config=kg_extraction_config)"
   ]
  },
  {
   "cell_type": "markdown",
   "id": "30c248a3",
   "metadata": {},
   "source": [
    "### Triples Generation"
   ]
  },
  {
   "cell_type": "code",
   "execution_count": null,
   "id": "c10bffac",
   "metadata": {},
   "outputs": [],
   "source": [
    "# construct entity&event graph\n",
    "kg_extractor.run_extraction()"
   ]
  },
  {
   "cell_type": "code",
   "execution_count": null,
   "id": "85c8f043",
   "metadata": {},
   "outputs": [],
   "source": [
    "# Convert Triples Json to CSV\n",
    "kg_extractor.convert_json_to_csv()"
   ]
  },
  {
   "cell_type": "code",
   "execution_count": 3,
   "id": "335211ba",
   "metadata": {},
   "outputs": [
    {
     "name": "stdout",
     "output_type": "stream",
     "text": [
      "[[], [\"'What we understand about physics...' they muttered, trailing off as they realigned a translucent component.\", 'Event'], [], [], ['elevator', 'Entity'], [\"Alex's eyes brightened with a subtle approval that crossed the distance like a silent nod.\", 'Event'], [], [], [], [], [], ['Sam made a joke about Martians playing poker, eliciting a round of chuckles from the team.', 'Event'], ['to the trained eye, it appeared out of place—a facade', 'Event'], [], [\"As Alex turned to leave, Sam's eyes drifted back to the screens, now seeing them not as barriers to isolate behind, but as windows into the vast and enigmatic challenge that awaited their team.\", 'Event'], [], [], [], ['The agents checked their gear, sending confirmation signals through their comms.', 'Event'], [], ['The imposing doors to the mainframe room stood ajar.', 'Event'], [], [], ['legend', 'Entity'], [], ['weigh', 'Relation'], [], ['The cooling vents hummed in a monotonous drone, but it was the crackle of the comms system coming to life that cut through the lab’s tension.', 'Event'], ['the drone', 'Entity'], ['A restlessness that nibbled on the edges of reality, as though forewarning of the threshold they were soon to cross — from the known into the realm of cosmic secrets and silent threats.', 'Event'], [], [], ['differently', 'Entity'], [], [], ['The imposing doors to the mainframe room stood ajar', 'Event'], [], [], [], ['servers', 'Entity'], [], ['wait', 'Entity'], ['chuckles', 'Entity'], [], ['set', 'Relation'], ['second thoughts', 'Entity'], ['Taylor', 'Entity'], ['office', 'Entity'], ['briefing', 'Entity'], ['mirrored', 'Relation'], [\"'The quest for understanding always comes at a price. We're standing on the precipice of knowledge that could either elevate us or condemn us.'\", 'Event'], [], [], ['Cruz’s voice trailed off as the small airborne device came into view.', 'Event'], [], ['Jordan, always composed, only allowed the faintest furrow of concentration to mar their brow.', 'Event'], ['Cruz’s voice trailed off as the small airborne device came into view', 'Event'], [], [], [], [\"Their fingers paused over the keyboard as they leaned back in the chair, whispering to thin air, 'What secrets are you hiding from us?'\", 'Event'], [], ['Their fingers paused over the keyboard as they leaned back in the chair, their curious and isolated mind hungered to decrypt.', 'Event'], [], [], [\"Their exchange was cut short by Taylor Cruz's abrupt arrival, his gait brimming with a robust confidence that veiled the sharp undercurrents of his striving nature.\", 'Event'], [], ['The agents wondered if their technology and protocols were sufficient for what awaited them.', 'Event'], [], ['The team proceeded with caution after the confrontation.', 'Event'], [], [], ['be', 'Relation'], [], ['They gave a short nod, their analytical mind colliding with the uncertain dynamics of this operation.', 'Event'], ['The team moved deeper into the heart of the Dulce base.', 'Event'], [], [], [], [], ['The crackle of the comms system coming to life that cut through the lab’s tension.', 'Event'], [], [], ['his words', 'Entity'], [], [], [], ['gear', 'Entity'], [], [], [], [], [], ['interrupted', 'Relation'], [], ['Taylor had a change of heart.', 'Event'], ['For Alex Mercer, the link with Sam Rivera, though distant, was now poised with a mutuality ready to be tested,', 'Event'], [], ['turned', 'Relation'], ['skepticism', 'Entity'], ['Cruz squared their shoulders, clearly ruffled but not conceding any ground.', 'Event'], ['The team felt a chill as they realized the reality of Dulce base.', 'Event'], [], [], [], [], ['compliment', 'Entity'], [], ['crash site', 'Entity'], ['checked', 'Relation'], [], ['silence from Dulce', 'Entity'], ['Cruz', 'Entity'], ['watched', 'Relation'], [], ['enter', 'Relation'], [], [], [], ['They were irrevocably joined', 'Event'], ['The charged air between them spiked.', 'Event'], [\"Jordan looked up, and for a fleeting heartbeat, their eyes locked with Taylor's, a wordless clash of wills softening into an uneasy truce.\", 'Event'], ['depths', 'Entity'], ['game', 'Entity'], [], ['psychological', 'Entity'], [], ['They paused beside Jordan and, for a moment, observed the device with something akin to reverence.', 'Event'], ['is participated by', 'Relation'], [], [], ['Dulce base', 'Entity'], [], ['understanding device', 'Entity'], ['approved', 'Relation'], ['For Alex Mercer, the link with Sam Rivera, though distant, was now poised with a mutuality ready to be tested, for Tay', 'Event'], ['rescue', 'Entity'], ['the team', 'Entity'], ['Jordan was aware of the risks and implications of the alien technology.', 'Event'], [], [\"A comfortable silence, the kind that threaded between veterans of shared secrets, lingered briefly before Sam Rivera, never one to submit to quiet, added, 'I’ve combed through the last transmission logs. If anyone can make sense of the anomalies, it’s going to be the two of you.'\", 'Event'], [], ['squaring', 'Relation'], [], [\"Alex joined Jordan's side and examined the panel.\", 'Event'], ['existential threat', 'Entity'], [], [], ['There was an unshakeable sense that they were delving into a conflict where the physical might be of little consequence.', 'Event'], ['pace', 'Entity'], ['marched', 'Relation'], [], [], ['The crew exhaled, a moment of collective relief palpable in the air.', 'Event'], [], [], ['support', 'Entity'], [], [], ['sat', 'Relation'], [], ['Taylor showed a glimpse of reluctant respect.', 'Event'], [], [], [], [], [], [\"Agent Alex Mercer watched, admiration blooming in silent solidarity for Jordan's deft touch and unspoken drive.\", 'Event'], ['Sam Rivera stated that he had combed through the last transmission logs', 'Event'], ['realigned', 'Relation'], ['Cruz squared their shoulders, clearly ruffled but not conceding any ground', 'Event'], [], [\"Taylor's authoritarian certainty.\", 'Event'], ['He gripped his rifle with a newfound firmness.', 'Event'], [], ['added', 'Relation'], [], [], [], [], [], ['Without a word, they fortified their resolve and stepped through the threshold.', 'Event'], [], [], [], ['Jordan explained their reasoning as Sam approached.', 'Event'], ['The team pressed onward, the quiet now filled with the soft beeps of regular comms checks.', 'Event'], [], ['departure', 'Entity'], [], [\"Dr. Jordan Hayes couldn't help but muse over the layers of data that could wait below, now almost longing for the comfort of empirical evidence.\", 'Event'], [], [], ['admired', 'Relation'], [], [], ['Then, as one, they stepped into the elevator.', 'Event'], [], [], ['hide', 'Relation'], [], ['It was an affirmation, but beneath it lay layers of unspoken complexities that would undoubtedly unwind with time.', 'Event'], [], ['the soft whir of an approaching drone cut through their muffled exchange', 'Event'], [], [], [], ['concealed elevator', 'Entity'], [\"Agent Alex Mercer, unfailingly determined on paper, seemed dwarfed by the enormity of the sterile briefing room where Paranormal Military Squad's elite convened.\", 'Event'], ['agents', 'Entity'], [\"It was this competitive undercurrent that kept him alert, the sense that his and Jordan's shared commitment to discovery was an unspoken rebellion against Cruz's narrowing vision of control and order.\", 'Event'], [], ['whispered', 'Relation'], [\"'About what’s at stake here. Not the mission parameters, but what this means for us—humanity.'\", 'Event'], ['anticipation', 'Entity'], ['behind', 'Entity'], [], ['impending threat', 'Entity'], [\"Sam's workspace\", 'Entity'], [\"Alex's response was measured, more assertive than moments ago. 'Acknowledged, Agent Cruz,' he replied, his voice steadier, mirroring the transformation brewing within.\", 'Event'], [], ['efforts', 'Entity'], [\"'Our tech is top-tier, but the silence from Dulce... It's not just technology that will see us through, it's intuition and... trust.'\", 'Event'], [], [], ['Agent Alex Mercer seemed dwarfed by the enormity of the sterile briefing room.', 'Event'], [], ['Alex Mercer arrived in the office.', 'Event'], ['The team fanned out into the unknown, sharing a cautious glance.', 'Event'], ['observed', 'Relation'], ['Sam instinctively understood the significance of what lay beneath', 'Event'], ['crack', 'Relation'], [], ['The drone lingered, its scan seeming more curious than hostile.', 'Event'], ['Dulce', 'Entity'], ['command', 'Entity'], ['Taylor had looped back upon hearing the commotion', 'Event'], [], [], [], [], [], [], [], [\"Sam Rivera whispered to thin air, 'What secrets are you hiding from us?'\", 'Event'], [], ['Marshaled back to the moment by the blink of lights and whir of machinery, they refocused their efforts, each movement sharpened by the knowledge that beyond understanding the unearthly artifacts, they might be piecing together the future of their species.', 'Event'], ['refocused', 'Relation'], [], [], [], [], ['With dulled eyes, he scanned the projectors outlining their impending odyssey into Operation: Dulce.', 'Event'], ['The team fortified their resolve and stepped into the mainframe room.', 'Event'], ['Sam was the first to react, their tech-savvy mind already steps ahead', 'Event'], [], [], [], ['Sam', 'Entity'], [], [], ['wait', 'Relation'], [], [], [], [], [], [], [], ['had', 'Relation'], ['require', 'Relation'], [], [], [], [], [], [], [], [\"'Always,' Sam said, a smile surfacing as they swiveled to face their mentor more directly.\", 'Event'], ['As everyone began to collect their binders and prepare for departure, a quiet resolve took form within Alex, galvanized by the groundwork laid by their interactions.', 'Event'], ['Before Alex could respond, the soft whir of an approaching drone cut through their muffled exchange.', 'Event'], [], [\"They filed out of the briefing room, their footsteps synchronized, a rhythm that spoke volumes of the unknown cadence they would soon march to within the base's veins.\", 'Event'], ['leave', 'Entity'], [], [], [], [], ['for Taylor Cruz, the mission was an opportunity to prove himself, though the cost was unclear.', 'Event'], [], [], [], [], [\"'Time to gear up. Dulce waits for no one,' Taylor announced, his voice carrying an iron resolve that knew the costs of hesitation—though whether the cost was calculated in human or career terms was an ambiguity he wore like a badge of honor.\", 'Event'], [], ['hovered', 'Relation'], ['Then Taylor did something unexpected. They paused beside Jordan and, for a moment, observed the device with something akin to reverence.', 'Event'], [\"The stillness of the room broke with the unexpected arrival of Alex Mercer, whose encroaching shadow loomed over Sam's workspace.\", 'Event'], [], ['reality', 'Entity'], ['facility', 'Entity'], ['device', 'Entity'], ['lor Cruz felt anticipation thinly veiled behind a mask of duty', 'Event'], ['Alex Mercer', 'Entity'], [], [], [], [\"Sam's eyes drifted back to the screens, now seeing them not as barriers to isolate behind, but as windows into the vast and enigmatic challenge that awaited their team.\", 'Event'], [], ['explained', 'Relation'], [], [], [], [\"Sam nodded, recognizing the space afforded to him, and he couldn't help but feel the weight of expectation pressing upon his shoulders.\", 'Event'], [], [], [], ['Alex', 'Entity'], [\"Taylor Cruz's vision and control\", 'Entity'], [], ['A shudder ran through the elevator, making them hold their breaths.', 'Event'], [], ['asked', 'Relation'], [], ['Sam fiddled with a handheld device to detect electronic anomalies.', 'Event'], [], ['respond', 'Relation'], [\"He has that look — like something's not sitting right with him.\", 'Event'], [], [], [], [\"'Could be fundamentally changed by this.'\", 'Event'], [], [], ['A quiet resolve took form within Alex', 'Event'], [], ['table', 'Entity'], [], [], [\"It wasn't the mechanical stutter of old gears but a vibration that seemed to emanate from the very walls of the shaft—a whisper of something that defied natural explanation.\", 'Event'], ['Jordan Hayes approached Mercer.', 'Event'], [], [], ['nodded', 'Relation'], ['Alex hesitated, weighing his words carefully.', 'Event'], [], ['Taylor Cruz ordered the team to be vigilant and check comms regularly.', 'Event'], ['code', 'Entity'], [], ['approaching drone', 'Entity'], [], ['Alex replied that he was not having second thoughts', 'Event'], [], [], ['door', 'Entity'], ['scanned', 'Relation'], [], [], ['Taylor Cruz interjected sharply, stepping into their exchange.', 'Event'], [], [], [\"It wasn't just the mission that was immense, it was the trust being placed in him.\", 'Event'], [\"'The patterns are... off,' Sam admitted, hesitant but driven.\", 'Event'], ['advanced', 'Relation'], [], ['Taylor observed the device with reverence.', 'Event'], ['Jordan Hayes paused at an innocuous looking panel in the base.', 'Event'], ['nondescript panel', 'Entity'], ['As Sam and Alex nodded in unison, the icy chasm of hierarchy and cryptic protocols seemed momentarily to bridge over with an understanding—this mission was convergence, a nexus point that would challenge each of their motives and strength.', 'Event'], ['as the descent began,', 'Relation'], [\"It's like we're being pulled into someone else’s game. Not just observers or participants, but... pawns.\", 'Event'], [], [], ['The team was descending into the earth, carrying with them not only the weight of their equipment but also the silent pressure of the invisible war they were about to fight—a war that seemed to edge away from physicality and into the unnervingly psychological.', 'Event'], ['fortified', 'Relation'], ['cosmic secrets', 'Entity'], [], [], [], ['Sam regarded Alex for a moment.', 'Event'], [], [], [], [\"As they congregated at the elevator, a tension palpable, Sam Rivera piped in with a tone of balanced levity, 'Hope everyone’s brought their good luck charms. Something tells me we’re going to need all the help we can get.'\", 'Event'], ['were', 'Relation'], [], ['The elevator came to a halt, and the team stepped off at the sub-level.', 'Event'], ['analysis', 'Entity'], ['Dr. Jordan Hayes', 'Entity'], [], [], [], [], ['exchange', 'Entity'], ['The realignment of the translucent component.', 'Event'], [\"'Intuition,' they mirrored thoughtfully.\", 'Event'], [], [\"'I guess sometimes the numbers don't have all the answers.'\", 'Event'], ['darkness', 'Entity'], [\"Sam's voice crackled through, attempting to lighten the mood with a joke.\", 'Event'], ['To think that this reluctance to accept other possibilities may have been my biggest blind spot,', 'Event'], ['outsider', 'Entity'], [], ['meeting room', 'Entity'], [], [], [], [], [], ['saw', 'Relation'], [], ['They were working with alien technology.', 'Event'], [], [], [], ['The hard shell of skepticism began to crack.', 'Event'], ['they converged upon a central hub', 'Event'], ['below', 'Entity'], ['crackled', 'Relation'], [\"'You've been quiet, Sam,' Alex noted, catching the younger man's contemplative gaze.\", 'Event'], ['Amidst the sterility of the briefing room, the liminal space between the facts laid out and the hidden truths, sat Sam Rivera, his demeanor an artful balance of focus and a casual disguise of his razor-sharp talent with technology.', 'Event'], ['embrace', 'Entity'], [\"The words 'counter-productive' seemed to hang in the air, a tacit reprimand directed at Alex.\", 'Event'], [], ['projectors', 'Entity'], [], [], [], [], ['You two need to cut the philosophical chatter. We have positions to secure.', 'Event'], [\"He may have spoken in compliance, but his determination had merely taken a subtler form — one that wouldn't surrender so easily to the forthcoming shadows.\", 'Event'], ['dismissed', 'Relation'], [], [], ['inhabitants', 'Entity'], [], [], ['To an outsider, it might have looked like obsession, this fervent quest for answers.', 'Event'], ['alien technology', 'Entity'], ['looked', 'Relation'], [\"Once we're down there, keep that analytical edge sharp. You see through the mazes of the unexplained better than anyone.\", 'Event'], [], [], [], ['silent threats', 'Entity'], [\"I've felt that way since the briefing. Like there's a layer we’re not seeing. And yet, we have no choice but to play along.\", 'Event'], [], [], ['The compliment was unexpected and weighed differently than praise from others.', 'Event'], [], ['Lor Cruz', 'Entity'], ['Feeling the weight of his compliance conflicting with his natural inclination to leave no stone unturned, Alex straightened in his seat.', 'Event'], [\"With a sound of restrained acknowledgment, Jordan returned their gaze to the device, while Alex clenched his jaw, the buzz of frustration dull against the backdrop of Taylor's authoritarian certainty.\", 'Event'], [], [\"Let's proceed.\", 'Event'], [], [], [], [], ['Agent Alex Mercer', 'Entity'], [], [], ['The charged air between them spiked as Taylor Cruz’s brusque tones sliced through their reverie.', 'Event'], [], [], ['conflict', 'Entity'], ['intuition', 'Entity'], [], [], [], [], ['voice', 'Entity'], [], ['paused', 'Relation'], [\"Alex's response was measured, more assertive than moments ago.\", 'Event'], ['Cruz directed the group to move out after the drone incident.', 'Event'], ['Then Taylor did something unexpected.', 'Event'], ['lay', 'Relation'], [], [], [], [], ['shadow', 'Entity'], [], [], [], [], [], [], [], [], ['closed', 'Relation'], [], [\"Taylor's change of heart.\", 'Event'], [], ['reacted', 'Relation'], [], ['Though armed with an array of advanced weaponry and gear, there was an unshakeable sense that they were delving into a conflict where the physical might be of little consequence.', 'Event'], ['group', 'Entity'], [], ['initiative', 'Entity'], ['Dr. Jordan Hayes hovered over a table arrayed with alien technology, their fingers delicately probing the enigmatic circuitry retrieved from the crash site.', 'Event'], ['pawns', 'Entity'], [], ['mask', 'Entity'], ['His gaze pierced through the digital haze, trying to instill something more profound than advice.', 'Event'], [], [], ['compared', 'Relation'], ['feel', 'Relation'], ['confrontation', 'Entity'], [], ['The agents proceeded into Dulce, their movements measured and senses heightened.', 'Event'], [\"Alex Mercer said, 'Our tech is top-tier, but the silence from Dulce... It's not just technology that will see us through, it's intuition and... trust.'\", 'Event'], ['threshold', 'Entity'], [], [], ['The steel door closed behind the team, marking the threshold between the familiar world and the unknown.', 'Event'], ['Taylor Cruz told people to focus and follow protocols', 'Event'], [\"He gripped his rifle with a newfound firmness. 'Let's proceed.'\", 'Event'], ['the door', 'Entity'], ['the agents', 'Entity'], ['the elevator', 'Entity'], ['Sam regarded Alex for a moment, the sincerity in his voice resonating with their own unspoken desire to prove their worth.', 'Event'], [], [\"Sam murmured agreement with Taylor's orders.\", 'Event'], ['The team proceeded into the unknown, their senses heightened.', 'Event'], ['positions', 'Entity'], ['alone', 'Entity'], [], ['thin air', 'Entity'], [], [], ['They were stepping closer towards the volatile embrace of Operation: Dulce', 'Event'], [], ['filed', 'Relation'], ['different paths', 'Entity'], ['Cruz reacted to the shudder, barking out a command to perform systems checks.', 'Event'], [], [], ['Alex agreed with Taylor Cruz that protocol was paramount', 'Event'], [], ['cooling vents', 'Entity'], ['The weight of the metal door closing behind them reverberated through the hallway.', 'Event'], [\"within moments, courtesy of Sam's interference, the little sentinel drifted away\", 'Event'], [], ['Yet, beneath the veneer of duty, the enticement of the vast unknown pulled them inexorably together, coalescing their distinct desires into a shared pulse of anticipation.', 'Event'], ['The thrumming of monitors cast a stark contrast to the rigid silence enveloping the group.', 'Event'], [], ['Mercer', 'Entity'], ['Shadows played against the walls of the cramped underground meeting room.', 'Event'], ['low pulse', 'Entity'], [\"'Got a minute, Rivera?'\", 'Event'], [], ['involve', 'Relation'], [], ['The sense of foreboding hung heavier than the darkness that the artificial lights of the elevator shaft failed to fully penetrate.', 'Event'], ['Agent Alex Mercer scanned the projectors outlining their impending odyssey into Operation: Dulce', 'Event'], ['Taylor set a brisk pace, ordering the team to keep their eyes sharp and check their comms.', 'Event'], [], [], ['as a result', 'Relation'], [], ['The initiative pulsed like a heartbeat', 'Event'], ['binders', 'Entity'], [\"'Good. Keen eyes will keep us ahead—or at least not blindsided,' he said, affirming the belief that inscribed Sam's role as more than the tech personnel—he was to be a guiding intellect in the heart of uncertainty.\", 'Event'], [], [], ['Jordan gave a short nod, their analytical mind colliding with the uncertain dynamics of this operation.', 'Event'], [], [], [], ['team', 'Entity'], ['veiled', 'Relation'], [\"The cybersecurity expert craned their neck upwards, met by the ever-so-slight furrow in Alex's brow.\", 'Event'], [], ['stood', 'Relation'], [], ['Alex was thinking about the implications of the alien technology.', 'Event'], ['Taylor interrupted them.', 'Event'], ['emitted', 'Relation'], ['Alex turned to leave.', 'Event'], ['stepping closer towards the volatile embrace of Operation: Dulce', 'Event'], [], ['directed', 'Relation'], [], ['Their voice was low, a blend of confidence and hidden apprehension.', 'Event'], [], [], ['Taylor Cruz', 'Entity'], ['Their destinies were forever cemented to the legacy of Operation: Dulce.', 'Event'], ['A shudder ran through the elevator, making the agents instinctively hold their breaths.', 'Event'], [], [], [], [], ['Alex turned, his features a mask of uneasy resolve.', 'Event'], ['cut', 'Relation'], [], ['remarked', 'Relation'], ['speculation', 'Entity'], ['Sam Rivera sat alone in a cramped office, the hum of a dozen servers murmuring a digital lullaby in the background.', 'Event'], [], [], [], [\"The team stepped off the elevator into the sub-level's halls.\", 'Event'], ['joined', 'Relation'], [], ['enormity', 'Entity'], [\"A calculated risk—that's what this was.\", 'Event'], ['noted', 'Relation'], [], [], ['at the same time', 'Relation'], [\"Sam's idea\", 'Entity'], [], [], ['Alex Mercer stood gazing at the concealed elevator that would deliver them into the bowels of Dulce base.', 'Event'], ['Surrounded by the glow of multiple screens, their eyes danced across lines of code and intercepted comm signals from Dulce — a kaleidoscope of data that their curious and isolated mind hungered to decrypt.', 'Event'], [], ['Jordan Hayes recognized the internal conflict within Alex', 'Event'], ['digital haze', 'Entity'], [], [], [], ['hesitated', 'Relation'], [\"Alex flickered a strained smile, still thumbing his folder's corner.\", 'Event'], [], [], [], ['air', 'Entity'], ['pierced', 'Relation'], ['understood', 'Relation'], ['Outside the office, the persistent buzz of activity in the facility belied the unease that gripped its inhabitants.', 'Event'], [], ['comms system', 'Entity'], [], [], [], [], ['examined', 'Relation'], ['war', 'Entity'], ['The underlying dismissal earlier seemed to falter, replaced by a glimpse of reluctant respect for the gravity of what lay in their hands.', 'Event'], ['pulsed', 'Relation'], ['barked', 'Relation'], ['Jordan said, the words carrying a trace of newfound assertiveness.', 'Event'], ['descend', 'Relation'], ['worked', 'Relation'], ['monitors', 'Entity'], [], [], ['The team advanced into the depths of Dulce, their silence a testament to their camaraderie and resolve.', 'Event'], [], ['The sincerity in his voice resonated with their own unspoken desire to prove their worth.', 'Event'], [], ['data', 'Entity'], [], [], [], [], [], ['hungered', 'Relation'], [], [], ['the device', 'Entity'], ['unknown', 'Entity'], [], [\"I’ve been thinking,' Alex started, his eyes still fixed on the immediately tangible mystery before them.\", 'Event'], ['elicited', 'Relation'], ['Jordan glanced up, meeting his eyes just long enough to convey the shared enormity of their situation, the career-defining glory and existential dread entwined.', 'Event'], [], [], [], [], ['interrupt', 'Relation'], ['their gear', 'Entity'], [\"Alex caught Jordan's reflective gaze and leaned in, his voice barely a murmur over the hum of the elevator.\", 'Event'], [\"'I know what you're thinking,' Jordan Hayes remarked, approaching Mercer.\", 'Event'], [], [], [\"Thank you, Alex,' Jordan said, the words carrying a trace of newfound assertiveness.\", 'Event'], [], [], [], ['resolve', 'Entity'], ['The device emitted a low pulse, causing Jordan to still.', 'Event'], [], [], [], [], [], ['They were each alone', 'Event'], [], [], [], [], [], ['The team moved forward into the unknown, with each one aware of the danger that lay ahead.', 'Event'], [], [], ['mission', 'Entity'], [], [], [], [], ['weaponry', 'Entity'], ['Sam was the first to react, their tech-savvy mind already steps ahead.', 'Event'], [\"Alex's submission, though seemingly complete, didn't escape Jordan, who tilted their head ever so slightly, their eyes revealing a spark of understanding.\", 'Event'], ['The doors closed with a silent hiss, and they descended into the darkness together, aware that when they returned, if they returned, none of them would be the same.', 'Event'], [], [], ['arrived', 'Relation'], [], ['The drone retreated into the shadows after being interfered with by Sam.', 'Event'], ['they', 'Entity'], ['It was Taylor Cruz’s voice, laced with an edge that demanded attention.', 'Event'], [], [], [], [], [], ['dwarfed', 'Relation'], [], [], ['briefing room', 'Entity'], ['regarded', 'Relation'], [], [], ['Jordan explained to Sam why the panel seemed out of place.', 'Event'], [], [], [], ['said', 'Relation'], [], ['layer', 'Entity'], [], ['the group', 'Entity'], [], ['after', 'Relation'], [], [], ['They', 'Entity'], ['stepped', 'Relation'], ['Their laughter served as a brief respite from the gravity of their mission, a shared moment that reinforced their common humanity amidst the unknowable.', 'Event'], [], [], ['Everyone began to collect their binders and prepare for departure', 'Event'], ['The agents checked their gear and sent confirmation signals, creating a chorus of electronic beeps.', 'Event'], [], ['as a result of', 'Relation'], [], [], ['everyone', 'Entity'], ['Sam reacted to the drone and used their gadgetry to ward off the threat.', 'Event'], [], ['They had all been brought here by different paths and for different reasons.', 'Event'], ['Their shared silence held a newfound understanding, a recognition that between the ones and zeros, it was their combined human insights that might prevail against the impossible.', 'Event'], [], ['they were each alone yet irrevocably joined', 'Event'], ['Cruz reacted to the shudder, barking out a command to check systems.', 'Event'], ['short', 'Entity'], [], ['agreed', 'Relation'], [], [], ['circuitry', 'Entity'], ['Jordan Hayes gave a supportive nod to Alex', 'Event'], [], ['Taylor snorted dismissively.', 'Event'], [], ['They were working with alien technology that could fundamentally change their understanding of physics.', 'Event'], [\"'If this tech can be understood...' Taylor said, their voice quieter, 'It could change the game for us. For all of us.'\", 'Event'], ['Taylor Cruz asked Agent Mercer if he was having second thoughts', 'Event'], [], ['linked', 'Relation'], [], ['Anticipation was thinly veiled behind a mask of duty', 'Event'], [], [], [], [\"'If I'm right, what we're looking at isn't random—it's a structured anomaly. We need to be ready for anything.'\", 'Event'], ['screens', 'Entity'], ['Sam Rivera', 'Entity'], ['Across from him, Alex Mercer lingered in thought, the mental cogs turning as each file on Dulce stirred more than curiosity—it beckoned to a past both honored and burdensome.', 'Event'], [], ['A drone approached the group.', 'Event'], [], [\"Their eyes locked with Alex's, silently exchanging a vow to remain vigilant.\", 'Event'], [], [], [], ['warded off', 'Relation'], [], [], ['probed', 'Relation'], [], [], ['panel', 'Entity'], ['translucent component', 'Entity'], [], [], ['The air was thick, every breath laced with the weight of impending confrontation, the kind one feels when stepping into a legend.', 'Event'], [], ['Operation', 'Entity'], [], [], ['weight of expectation', 'Entity'], [], ['conversation', 'Entity'], ['Agent Alex Mercer and Dr. Jordan Hayes', 'Entity'], [], ['Jordan', 'Entity'], [], [\"'I’ve been thinking,' Alex started, his eyes still fixed on the immediately tangible mystery before them.\", 'Event'], ['suggested', 'Relation'], [\"'Hayes, Mercer, this isn't philosophy hour. Focus on the task. We need actionable intel, not daydreams.'\", 'Event'], [], ['offered', 'Relation'], [], ['The exchange was cut short.', 'Event'], [], [], ['Jordan Hayes, perched on the opposite side of the table, narrowed their eyes but offered a supportive nod.', 'Event'], [], ['Rivera', 'Entity'], ['Shadows played against the walls of the cramped underground meeting room, where Alex Mercer stood gazing at the concealed elevator that would deliver them into the bowels of Dulce base.', 'Event'], ['felt', 'Relation'], ['Taylor Cruz’s brusque tones sliced through their reverie.', 'Event'], [\"_He has that look — like something's not sitting right with him,_ they noted inwardly.\", 'Event'], ['Jordan Hayes', 'Entity'], ['The crew exhaled, a moment of collective relief palpable in the air', 'Event'], ['lor Cruz, the initiative pulsed like a heartbeat', 'Event'], [], [\"The team's tension was released by Sam's joke, eliciting a round of chuckles.\", 'Event'], [], [], [], ['because', 'Relation'], [], [], [], ['announced', 'Relation'], ['The team converged on a central hub and entered the mainframe room.', 'Event'], ['shoulders', 'Entity'], [], ['before', 'Relation'], ['stepping', 'Relation']]\n"
     ]
    },
    {
     "ename": "IndexError",
     "evalue": "list index out of range",
     "output_type": "error",
     "traceback": [
      "\u001b[0;31m---------------------------------------------------------------------------\u001b[0m",
      "\u001b[0;31mIndexError\u001b[0m                                Traceback (most recent call last)",
      "Cell \u001b[0;32mIn[3], line 2\u001b[0m\n\u001b[1;32m      1\u001b[0m \u001b[38;5;66;03m# Concept Generation\u001b[39;00m\n\u001b[0;32m----> 2\u001b[0m \u001b[43mkg_extractor\u001b[49m\u001b[38;5;241;43m.\u001b[39;49m\u001b[43mgenerate_concept_csv_temp\u001b[49m\u001b[43m(\u001b[49m\u001b[43m)\u001b[49m\n",
      "File \u001b[0;32m~/projects/AutoSchemaKG/atlas_rag/kg_construction/triple_extraction.py:384\u001b[0m, in \u001b[0;36mKnowledgeGraphExtractor.generate_concept_csv_temp\u001b[0;34m(self, batch_size, **kwargs)\u001b[0m\n\u001b[1;32m    383\u001b[0m \u001b[38;5;28;01mdef\u001b[39;00m\u001b[38;5;250m \u001b[39m\u001b[38;5;21mgenerate_concept_csv_temp\u001b[39m(\u001b[38;5;28mself\u001b[39m, batch_size: \u001b[38;5;28mint\u001b[39m \u001b[38;5;241m=\u001b[39m \u001b[38;5;28;01mNone\u001b[39;00m, \u001b[38;5;241m*\u001b[39m\u001b[38;5;241m*\u001b[39mkwargs):\n\u001b[0;32m--> 384\u001b[0m     \u001b[43mgenerate_concept\u001b[49m\u001b[43m(\u001b[49m\n\u001b[1;32m    385\u001b[0m \u001b[43m        \u001b[49m\u001b[43mmodel\u001b[49m\u001b[38;5;241;43m=\u001b[39;49m\u001b[38;5;28;43mself\u001b[39;49m\u001b[38;5;241;43m.\u001b[39;49m\u001b[43mmodel\u001b[49m\u001b[43m,\u001b[49m\n\u001b[1;32m    386\u001b[0m \u001b[43m        \u001b[49m\u001b[43minput_file\u001b[49m\u001b[38;5;241;43m=\u001b[39;49m\u001b[38;5;124;43mf\u001b[39;49m\u001b[38;5;124;43m\"\u001b[39;49m\u001b[38;5;132;43;01m{\u001b[39;49;00m\u001b[38;5;28;43mself\u001b[39;49m\u001b[38;5;241;43m.\u001b[39;49m\u001b[43mconfig\u001b[49m\u001b[38;5;241;43m.\u001b[39;49m\u001b[43moutput_directory\u001b[49m\u001b[38;5;132;43;01m}\u001b[39;49;00m\u001b[38;5;124;43m/triples_csv/missing_concepts_\u001b[39;49m\u001b[38;5;132;43;01m{\u001b[39;49;00m\u001b[38;5;28;43mself\u001b[39;49m\u001b[38;5;241;43m.\u001b[39;49m\u001b[43mconfig\u001b[49m\u001b[38;5;241;43m.\u001b[39;49m\u001b[43mfilename_pattern\u001b[49m\u001b[38;5;132;43;01m}\u001b[39;49;00m\u001b[38;5;124;43m_from_json.csv\u001b[39;49m\u001b[38;5;124;43m\"\u001b[39;49m\u001b[43m,\u001b[49m\n\u001b[1;32m    387\u001b[0m \u001b[43m        \u001b[49m\u001b[43moutput_folder\u001b[49m\u001b[38;5;241;43m=\u001b[39;49m\u001b[38;5;124;43mf\u001b[39;49m\u001b[38;5;124;43m\"\u001b[39;49m\u001b[38;5;132;43;01m{\u001b[39;49;00m\u001b[38;5;28;43mself\u001b[39;49m\u001b[38;5;241;43m.\u001b[39;49m\u001b[43mconfig\u001b[49m\u001b[38;5;241;43m.\u001b[39;49m\u001b[43moutput_directory\u001b[49m\u001b[38;5;132;43;01m}\u001b[39;49;00m\u001b[38;5;124;43m/concepts\u001b[39;49m\u001b[38;5;124;43m\"\u001b[39;49m\u001b[43m,\u001b[49m\n\u001b[1;32m    388\u001b[0m \u001b[43m        \u001b[49m\u001b[43moutput_file\u001b[49m\u001b[38;5;241;43m=\u001b[39;49m\u001b[38;5;124;43m\"\u001b[39;49m\u001b[38;5;124;43mconcept.json\u001b[39;49m\u001b[38;5;124;43m\"\u001b[39;49m\u001b[43m,\u001b[49m\n\u001b[1;32m    389\u001b[0m \u001b[43m        \u001b[49m\u001b[43mlogging_file\u001b[49m\u001b[38;5;241;43m=\u001b[39;49m\u001b[38;5;124;43mf\u001b[39;49m\u001b[38;5;124;43m\"\u001b[39;49m\u001b[38;5;132;43;01m{\u001b[39;49;00m\u001b[38;5;28;43mself\u001b[39;49m\u001b[38;5;241;43m.\u001b[39;49m\u001b[43mconfig\u001b[49m\u001b[38;5;241;43m.\u001b[39;49m\u001b[43moutput_directory\u001b[49m\u001b[38;5;132;43;01m}\u001b[39;49;00m\u001b[38;5;124;43m/concepts/logging.txt\u001b[39;49m\u001b[38;5;124;43m\"\u001b[39;49m\u001b[43m,\u001b[49m\n\u001b[1;32m    390\u001b[0m \u001b[43m        \u001b[49m\u001b[43mconfig\u001b[49m\u001b[38;5;241;43m=\u001b[39;49m\u001b[38;5;28;43mself\u001b[39;49m\u001b[38;5;241;43m.\u001b[39;49m\u001b[43mconfig\u001b[49m\u001b[43m,\u001b[49m\n\u001b[1;32m    391\u001b[0m \u001b[43m        \u001b[49m\u001b[43mbatch_size\u001b[49m\u001b[38;5;241;43m=\u001b[39;49m\u001b[43mbatch_size\u001b[49m\u001b[43m \u001b[49m\u001b[38;5;28;43;01mif\u001b[39;49;00m\u001b[43m \u001b[49m\u001b[43mbatch_size\u001b[49m\u001b[43m \u001b[49m\u001b[38;5;28;43;01melse\u001b[39;49;00m\u001b[43m \u001b[49m\u001b[38;5;28;43mself\u001b[39;49m\u001b[38;5;241;43m.\u001b[39;49m\u001b[43mconfig\u001b[49m\u001b[38;5;241;43m.\u001b[39;49m\u001b[43mbatch_size_concept\u001b[49m\u001b[43m,\u001b[49m\n\u001b[1;32m    392\u001b[0m \u001b[43m        \u001b[49m\u001b[43mshard\u001b[49m\u001b[38;5;241;43m=\u001b[39;49m\u001b[38;5;28;43mself\u001b[39;49m\u001b[38;5;241;43m.\u001b[39;49m\u001b[43mconfig\u001b[49m\u001b[38;5;241;43m.\u001b[39;49m\u001b[43mcurrent_shard_concept\u001b[49m\u001b[43m,\u001b[49m\n\u001b[1;32m    393\u001b[0m \u001b[43m        \u001b[49m\u001b[43mnum_shards\u001b[49m\u001b[38;5;241;43m=\u001b[39;49m\u001b[38;5;28;43mself\u001b[39;49m\u001b[38;5;241;43m.\u001b[39;49m\u001b[43mconfig\u001b[49m\u001b[38;5;241;43m.\u001b[39;49m\u001b[43mtotal_shards_concept\u001b[49m\u001b[43m,\u001b[49m\n\u001b[1;32m    394\u001b[0m \u001b[43m        \u001b[49m\u001b[43mrecord\u001b[49m\u001b[43m \u001b[49m\u001b[38;5;241;43m=\u001b[39;49m\u001b[43m \u001b[49m\u001b[38;5;28;43mself\u001b[39;49m\u001b[38;5;241;43m.\u001b[39;49m\u001b[43mconfig\u001b[49m\u001b[38;5;241;43m.\u001b[39;49m\u001b[43mrecord\u001b[49m\u001b[43m,\u001b[49m\n\u001b[1;32m    395\u001b[0m \u001b[43m        \u001b[49m\u001b[38;5;241;43m*\u001b[39;49m\u001b[38;5;241;43m*\u001b[39;49m\u001b[43mkwargs\u001b[49m\n\u001b[1;32m    396\u001b[0m \u001b[43m    \u001b[49m\u001b[43m)\u001b[49m\n",
      "File \u001b[0;32m~/projects/AutoSchemaKG/atlas_rag/kg_construction/concept_generation.py:156\u001b[0m, in \u001b[0;36mgenerate_concept\u001b[0;34m(model, input_file, output_folder, output_file, logging_file, config, batch_size, shard, num_shards, **kwargs)\u001b[0m\n\u001b[1;32m    149\u001b[0m     os\u001b[38;5;241m.\u001b[39mmakedirs(output_folder)\n\u001b[1;32m    150\u001b[0m all_missing_nodes \u001b[38;5;241m=\u001b[39m load_data_with_shard(\n\u001b[1;32m    151\u001b[0m     input_file,\n\u001b[1;32m    152\u001b[0m     shard_idx\u001b[38;5;241m=\u001b[39mshard,\n\u001b[1;32m    153\u001b[0m     num_shards\u001b[38;5;241m=\u001b[39mnum_shards\n\u001b[1;32m    154\u001b[0m )\n\u001b[0;32m--> 156\u001b[0m batched_events \u001b[38;5;241m=\u001b[39m \u001b[43mbuild_batched_events\u001b[49m\u001b[43m(\u001b[49m\u001b[43mall_missing_nodes\u001b[49m\u001b[43m,\u001b[49m\u001b[43m \u001b[49m\u001b[43mbatch_size\u001b[49m\u001b[43m)\u001b[49m\n\u001b[1;32m    157\u001b[0m batched_entities \u001b[38;5;241m=\u001b[39m build_batched_entities(all_missing_nodes, batch_size)\n\u001b[1;32m    158\u001b[0m batched_relations \u001b[38;5;241m=\u001b[39m build_batched_relations(all_missing_nodes, batch_size)\n",
      "File \u001b[0;32m~/projects/AutoSchemaKG/atlas_rag/kg_construction/concept_generation.py:54\u001b[0m, in \u001b[0;36mbuild_batched_events\u001b[0;34m(all_node_list, batch_size)\u001b[0m\n\u001b[1;32m     52\u001b[0m \u001b[38;5;124m\"\u001b[39m\u001b[38;5;124mThe types are in Entity Event Relation\u001b[39m\u001b[38;5;124m\"\u001b[39m\n\u001b[1;32m     53\u001b[0m \u001b[38;5;28mprint\u001b[39m(all_node_list)\n\u001b[0;32m---> 54\u001b[0m event_nodes \u001b[38;5;241m=\u001b[39m [node[\u001b[38;5;241m0\u001b[39m] \u001b[38;5;28;01mfor\u001b[39;00m node \u001b[38;5;129;01min\u001b[39;00m all_node_list \u001b[38;5;28;01mif\u001b[39;00m node[\u001b[38;5;241m1\u001b[39m]\u001b[38;5;241m.\u001b[39mlower() \u001b[38;5;241m==\u001b[39m \u001b[38;5;124m\"\u001b[39m\u001b[38;5;124mevent\u001b[39m\u001b[38;5;124m\"\u001b[39m]\n\u001b[1;32m     55\u001b[0m batched_events \u001b[38;5;241m=\u001b[39m []\n\u001b[1;32m     57\u001b[0m \u001b[38;5;28;01mfor\u001b[39;00m i \u001b[38;5;129;01min\u001b[39;00m \u001b[38;5;28mrange\u001b[39m(\u001b[38;5;241m0\u001b[39m, \u001b[38;5;28mlen\u001b[39m(event_nodes), batch_size):\n",
      "File \u001b[0;32m~/projects/AutoSchemaKG/atlas_rag/kg_construction/concept_generation.py:54\u001b[0m, in \u001b[0;36m<listcomp>\u001b[0;34m(.0)\u001b[0m\n\u001b[1;32m     52\u001b[0m \u001b[38;5;124m\"\u001b[39m\u001b[38;5;124mThe types are in Entity Event Relation\u001b[39m\u001b[38;5;124m\"\u001b[39m\n\u001b[1;32m     53\u001b[0m \u001b[38;5;28mprint\u001b[39m(all_node_list)\n\u001b[0;32m---> 54\u001b[0m event_nodes \u001b[38;5;241m=\u001b[39m [node[\u001b[38;5;241m0\u001b[39m] \u001b[38;5;28;01mfor\u001b[39;00m node \u001b[38;5;129;01min\u001b[39;00m all_node_list \u001b[38;5;28;01mif\u001b[39;00m \u001b[43mnode\u001b[49m\u001b[43m[\u001b[49m\u001b[38;5;241;43m1\u001b[39;49m\u001b[43m]\u001b[49m\u001b[38;5;241m.\u001b[39mlower() \u001b[38;5;241m==\u001b[39m \u001b[38;5;124m\"\u001b[39m\u001b[38;5;124mevent\u001b[39m\u001b[38;5;124m\"\u001b[39m]\n\u001b[1;32m     55\u001b[0m batched_events \u001b[38;5;241m=\u001b[39m []\n\u001b[1;32m     57\u001b[0m \u001b[38;5;28;01mfor\u001b[39;00m i \u001b[38;5;129;01min\u001b[39;00m \u001b[38;5;28mrange\u001b[39m(\u001b[38;5;241m0\u001b[39m, \u001b[38;5;28mlen\u001b[39m(event_nodes), batch_size):\n",
      "\u001b[0;31mIndexError\u001b[0m: list index out of range"
     ]
    }
   ],
   "source": [
    "# Concept Generation\n",
    "kg_extractor.generate_concept_csv_temp()"
   ]
  },
  {
   "cell_type": "code",
   "execution_count": null,
   "id": "f5823e8c",
   "metadata": {},
   "outputs": [],
   "source": [
    "kg_extractor.create_concept_csv()"
   ]
  },
  {
   "cell_type": "markdown",
   "id": "84480f15",
   "metadata": {},
   "source": [
    "# Choice 1: Convert to graphml for networkx rag"
   ]
  },
  {
   "cell_type": "code",
   "execution_count": 3,
   "id": "348f651b",
   "metadata": {},
   "outputs": [],
   "source": [
    "# convert csv to graphml for networkx\n",
    "kg_extractor.convert_to_graphml()"
   ]
  },
  {
   "cell_type": "markdown",
   "id": "4c8f197d",
   "metadata": {},
   "source": [
    "## ATLAS Multihop QA"
   ]
  },
  {
   "cell_type": "markdown",
   "id": "f7b957c1",
   "metadata": {},
   "source": [
    "In order to perform RAG, one need to first create embeddings & faiss index for constructed KG\n",
    "\n",
    "[There maybe performance difference in using AutoModel and Sentence Transformer for NV-Ebmed-v2]"
   ]
  },
  {
   "cell_type": "code",
   "execution_count": null,
   "id": "3c5d1aa8",
   "metadata": {},
   "outputs": [],
   "source": [
    "import os\n",
    "os.environ['CUDA_VISIBLE_DEVICES'] = '1'\n",
    "from sentence_transformers import SentenceTransformer\n",
    "from atlas_rag.vectorstore.embedding_model import NvEmbed, SentenceEmbedding\n",
    "from transformers import AutoModel\n",
    "# Load the SentenceTransformer model\n",
    "encoder_model_name = \"sentence-transformers/all-MiniLM-L6-v2\"\n",
    "sentence_model = SentenceTransformer(encoder_model_name, trust_remote_code=True, model_kwargs={'device_map': \"auto\"})\n",
    "sentence_encoder = SentenceEmbedding(sentence_model)\n",
    "# sentence_model.max_seq_length = 32768\n",
    "# sentence_model.tokenizer.padding_side=\"right\"\n",
    "# sentence_model = AutoModel.from_pretrained(encoder_model_name, trust_remote_code=True, device_map=\"auto\")\n",
    "# sentence_encoder = NvEmbed(sentence_model)"
   ]
  },
  {
   "cell_type": "code",
   "execution_count": 11,
   "id": "2a106e12",
   "metadata": {},
   "outputs": [],
   "source": [
    "from openai import OpenAI\n",
    "from atlas_rag.llm_generator import LLMGenerator\n",
    "from configparser import ConfigParser\n",
    "# Load OpenRouter API key from config file\n",
    "config = ConfigParser()\n",
    "config.read('config.ini')\n",
    "# reader_model_name = \"meta-llama/llama-3.3-70b-instruct\"\n",
    "reader_model_name = \"meta-llama/Llama-3.3-70B-Instruct\"\n",
    "client = OpenAI(\n",
    "  # base_url=\"https://openrouter.ai/api/v1\",\n",
    "  # api_key=config['settings']['OPENROUTER_API_KEY'],\n",
    "  base_url=\"https://api.deepinfra.com/v1/openai\",\n",
    "  api_key=config['settings']['DEEPINFRA_API_KEY'],\n",
    ")\n",
    "llm_generator = LLMGenerator(client=client, model_name=reader_model_name)"
   ]
  },
  {
   "cell_type": "code",
   "execution_count": null,
   "id": "e07ba40a",
   "metadata": {},
   "outputs": [],
   "source": [
    "from atlas_rag.vectorstore import create_embeddings_and_index\n",
    "keyword = 'CICGPC_Glazing_ver1.0a'\n",
    "working_directory = f'import/{keyword}'\n",
    "data = create_embeddings_and_index(\n",
    "    sentence_encoder=sentence_encoder,\n",
    "    model_name = encoder_model_name,\n",
    "    working_directory=working_directory,\n",
    "    keyword=keyword,\n",
    "    include_concept=True,\n",
    "    include_events=True,\n",
    "    normalize_embeddings= True,\n",
    "    text_batch_size=64,\n",
    "    node_and_edge_batch_size=64,\n",
    ")"
   ]
  },
  {
   "cell_type": "code",
   "execution_count": null,
   "id": "f86997e1",
   "metadata": {},
   "outputs": [],
   "source": [
    "# Initialize desired RAG method for benchmarking\n",
    "from atlas_rag.retriever import HippoRAG2Retriever\n",
    "from atlas_rag import setup_logger\n",
    "\n",
    "hipporag2_retriever = HippoRAG2Retriever(\n",
    "    llm_generator=llm_generator,\n",
    "    sentence_encoder=sentence_encoder,\n",
    "    data = data,\n",
    ")"
   ]
  },
  {
   "cell_type": "code",
   "execution_count": null,
   "id": "179b3850",
   "metadata": {},
   "outputs": [],
   "source": [
    "# perform retrieval\n",
    "content, sorted_context_ids = hipporag2_retriever.retrieve(\"How is the U-value relevant to thermal insulation performance in glazing products?\", topN=3)\n",
    "print(f\"Retrieved content: {content}\")"
   ]
  },
  {
   "cell_type": "code",
   "execution_count": null,
   "id": "e5b515ce",
   "metadata": {},
   "outputs": [],
   "source": [
    "# start benchmarking\n",
    "sorted_context = \"\\n\".join(content)\n",
    "llm_generator.generate_with_context(\"How is the U-value relevant to thermal insulation performance in glazing products?\", sorted_context, max_new_tokens=2048, temperature=0.5)"
   ]
  },
  {
   "cell_type": "markdown",
   "id": "5100a428",
   "metadata": {},
   "source": [
    "# Choice 2: Convert to neo4j dumps"
   ]
  },
  {
   "cell_type": "code",
   "execution_count": null,
   "id": "6d114689",
   "metadata": {},
   "outputs": [],
   "source": [
    "from sentence_transformers import SentenceTransformer\n",
    "from atlas_rag.vectorstore.embedding_model import SentenceEmbedding\n",
    "# use sentence embedding if you want to use sentence transformer\n",
    "# use NvEmbed if you want to use NvEmbed-v2 model\n",
    "sentence_model = SentenceTransformer('all-MiniLM-L6-v2')\n",
    "sentence_encoder = SentenceEmbedding(sentence_model)"
   ]
  },
  {
   "cell_type": "code",
   "execution_count": null,
   "id": "81a4e8d4",
   "metadata": {},
   "outputs": [],
   "source": [
    "# add numeric id to the csv so that we can use vector indices\n",
    "kg_extractor.add_numeric_id()\n",
    "\n",
    "# compute embedding\n",
    "kg_extractor.compute_kg_embedding(sentence_encoder) # default encoder_model_name=\"all-MiniLM-L12-v2\", only compute all embeddings except any concept related embeddings\n",
    "# kg_extractor.compute_embedding(encoder_model_name=\"all-MiniLM-L12-v2\")\n",
    "# kg_extractor.compute_embedding(encoder_model_name=\"nvidia/NV-Embed-v2\")\n",
    "\n",
    "# create faiss index\n",
    "kg_extractor.create_faiss_index(faiss_gpu=False) # default index_type=\"HNSW,Flat\", other options: \"IVF65536_HNSW32,Flat\" for large KG\n",
    "# kg_extractor.create_faiss_index(index_type=\"HNSW,Flat\")\n",
    "# kg_extractor.create_faiss_index(index_type=\"IVF65536_HNSW32,Flat\")\n"
   ]
  },
  {
   "cell_type": "markdown",
   "id": "5a89d518",
   "metadata": {},
   "source": [
    "## Install Neo4j Server\n",
    "\n",
    "Go to the AutoschemaKG/neo4j_scripts directory\n",
    "\n",
    "```sh get_neo4j_demo.sh```\n",
    "\n",
    "Then there a neo4j server is install in the directory: neo4j-server-dulce\n",
    "\n",
    "Start the newly instealled empty Neo4j server for testing\n",
    "\n",
    "```sh start_neo4j_demo.sh```\n",
    "\n",
    "\n",
    "\n",
    "## Config Neo4j Server\n",
    "\n",
    "Stop the server first before config and import data\n",
    "\n",
    "```sh stop_neo4j_demo.sh```\n",
    "\n",
    "\n",
    "Copy the ```AutoschemaKG/neo4j_scripts/neo4j.conf``` file to the conf directory of the Neo4j server (```neo4j-server-dulce/conf```). Then, update the following settings as needed: 1.Set dbms.default_database to the desired dataset name, such as ```wiki-csv-json-text```, ```pes2o-csv-json-text```, or ```cc-csv-json-text```. In this case we make it ```dulce-csv-json-text``` 2.Configure the Bolt, HTTP, and HTTPS connectors according to your requirements.\n",
    "\n",
    "I have set up the config port to some random ports to avoid port conflicts in ```neo4j-server-dulce/conf/neo4j.conf``` .\n",
    "\n",
    " \n",
    "``` \n",
    "# Bolt connector\n",
    "server.bolt.enabled=true\n",
    "#server.bolt.tls_level=DISABLED\n",
    "server.bolt.listen_address=0.0.0.0:8612\n",
    "server.bolt.advertised_address=:8612\n",
    "\n",
    "# HTTP Connector. There can be zero or one HTTP connectors.\n",
    "server.http.enabled=true\n",
    "server.http.listen_address=0.0.0.0:7612\n",
    "server.http.advertised_address=:7612\n",
    "\n",
    "# HTTPS Connector. There can be zero or one HTTPS connectors.\n",
    "server.https.enabled=false\n",
    "server.https.listen_address=0.0.0.0:7781\n",
    "server.https.advertised_address=:7781\n",
    "```\n",
    "\n",
    "\n",
    "## Import Data\n",
    "We use the admin import method to import data, which is the fastest way. Other methods are too slow for large graphs.\n",
    "\n",
    "\n",
    "## Load the CSV files into Neo4j\n",
    "\n",
    "We try to import data from previously constructed csv files with numeric ids. All the csv files are in ```import/Dulce```. \n",
    "In total six csv files for the nodes and edges of triples, text chunks, and concepts. \n",
    "\n",
    "``` shell\n",
    "./neo4j-server-dulce/bin/neo4j-admin database import full dulce-csv-json-text \\\n",
    "    --nodes ./import/Dulce/triples_csv/triple_nodes_Dulce_from_json_without_emb_with_numeric_id.csv \\\n",
    "    --nodes ./import/Dulce/triples_csv/text_nodes_Dulce_from_json_with_numeric_id.csv \\\n",
    "    --nodes ./import/Dulce/concept_csv/concept_nodes_Dulce_from_json_with_concept.csv \\\n",
    "    --relationships ./import/Dulce/triples_csv/triple_edges_Dulce_from_json_without_emb_with_numeric_id.csv \\\n",
    "    --relationships ./import/Dulce/triples_csv/text_edges_Dulce_from_json.csv \\\n",
    "    --relationships ./import/Dulce/concept_csv/concept_edges_Dulce_from_json_with_concept.csv  \\\n",
    "    --overwrite-destination \\\n",
    "    --multiline-fields=true \\\n",
    "    --id-type=string \\\n",
    "    --verbose --skip-bad-relationships=true\n",
    "```\n",
    "\n",
    "When this is finished, you can see the following notifications\n",
    "\n",
    "```shell\n",
    "IMPORT DONE in 2s 475ms. \n",
    "Imported:\n",
    "  1183 nodes\n",
    "  2519 relationships\n",
    "  6743 properties\n",
    "Peak memory usage: 1.032GiB\n",
    "```\n",
    "\n",
    "Then you can start host it by running in ```./neo4j_scripts```\n",
    "\n",
    "```sh start_neo4j_demo.sh```\n",
    "\n",
    "When you see the following line, then it is working well.\n",
    "\n",
    "\n",
    "```Started neo4j (pid:742490). It is available at http://0.0.0.0:7612```\n",
    "\n",
    "\n",
    "\n",
    "If you want to use the python driver to run neo4j, you need to use port 8612. You can access http://0.0.0.0:7612 in browser as well to use the neo4j GUI. \n",
    "\n",
    "The default user is ```neo4j``` with password ```admin2024```. \n"
   ]
  },
  {
   "cell_type": "markdown",
   "id": "f9a5e827",
   "metadata": {},
   "source": [
    "## ATLAS Billion Level RAG\n",
    "The LargeKGRetriever is designed to perform retrieval on a billion-level graph. \n",
    "\n",
    "There is a trade-off between retrieval performance and speed; this serves as a proof of concept for a billion-level knowledge graph.\n",
    "\n",
    "After successfully hosting the Neo4j database, you can run the provided Python script to host the RAG API:\n",
    "```shell\n",
    "python neo4j_api_host/atlas_api_demo.py \n",
    "```\n",
    "\n",
    "During the first startup of the API, it will create the necessary indexes and projection graphs in the Neo4j database for faster queries and computations. The time required for this process may vary depending on the size of the database. You can monitor the creation of these items in http://localhost:7612 by using the following commands:\n",
    "\n",
    "To view the projected graphs:\n",
    "```cypher\n",
    "CALL gds.graph.list()\n",
    "```\n",
    "To view the indexes:\n",
    "```cypher\n",
    "SHOW INDEXES\n",
    "```\n",
    "\n",
    "The projected graph will be deleted after the database is shut down, while the indexes will not be removed.\n",
    "\n",
    "After you saw: \\\n",
    "Index NodeNumericIDIndex created in 0.09 seconds \\\n",
    "Index TextNumericIDIndex created in 0.11 seconds \\\n",
    "Index EntityEventEdgeNumericIDIndex created in 0.02 seconds \\\n",
    "Projection graph largekgrag_graph created in 5.42 seconds \n",
    "\n",
    "You can perform rag as follows:"
   ]
  },
  {
   "cell_type": "code",
   "execution_count": 2,
   "id": "21a02dfa",
   "metadata": {},
   "outputs": [
    {
     "name": "stdout",
     "output_type": "stream",
     "text": [
      "Based on the provided passages, Alex Mercer is an agent (“Agent Alex Mercer”—Passages 3 & 6) who is part of a team exploring or investigating Dulce base, a mysterious and possibly dangerous underground facility (Passages 7–15). He appears to be experiencing tension and frustration due to Taylor Cruz’s authoritarian leadership style and seems to share a rebellious spirit of discovery with another character named Jordan (Passages 1 & 2).\n",
      "\n",
      "Key points about Alex Mercer:\n",
      "- He is referred to as “Agent,” indicating he holds an official investigative or government role.\n",
      "- He stands in opposition to Taylor Cruz's controlling approach, preferring discovery and exploration over order.\n",
      "- He works closely with Jordan; together they share commitment and competitive undercurrent against Cruz’s vision.\n",
      "- He is physically present at the entrance/elevator into Dulce base, showing his direct involvement in whatever mission or investigation is taking place there (Passages 8–12).\n",
      "  \n",
      "In summary:  \n",
      "**Alex Mercer is an agent assigned to investigate Dulce base. He shares a partnership—and subtle rebellion—against authoritarian leadership within his team, driven by curiosity and commitment to discovery.**\n"
     ]
    }
   ],
   "source": [
    "from openai import OpenAI\n",
    "\n",
    "base_url =\"http://0.0.0.0:10085/v1/\"\n",
    "client = OpenAI(api_key=\"EMPTY\", base_url=base_url)\n",
    "\n",
    "# knowledge graph en_simple_wiki_v0\n",
    "message = [\n",
    "    {\n",
    "        \"role\": \"system\",\n",
    "        \"content\": \"You are a helpful assistant that answers questions based on the knowledge graph.\",\n",
    "    },\n",
    "    {\n",
    "        \"role\": \"user\",\n",
    "        \"content\": \"Question: Who is Alex Mercer?\",\n",
    "    }\n",
    "]\n",
    "response = client.chat.completions.create(\n",
    "    model=\"llama\",\n",
    "    messages=message,\n",
    "    max_tokens=2048,\n",
    "    temperature=0.5\n",
    ")\n",
    "print(response.choices[0].message.content)"
   ]
  },
  {
   "cell_type": "code",
   "execution_count": null,
   "id": "ea5b5d70",
   "metadata": {},
   "outputs": [],
   "source": []
  }
 ],
 "metadata": {
  "kernelspec": {
   "display_name": "atlas-rag-gpu-test",
   "language": "python",
   "name": "python3"
  },
  "language_info": {
   "codemirror_mode": {
    "name": "ipython",
    "version": 3
   },
   "file_extension": ".py",
   "mimetype": "text/x-python",
   "name": "python",
   "nbconvert_exporter": "python",
   "pygments_lexer": "ipython3",
   "version": "3.10.18"
  }
 },
 "nbformat": 4,
 "nbformat_minor": 5
}
